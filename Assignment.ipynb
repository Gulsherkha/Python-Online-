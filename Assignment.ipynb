{
 "cells": [
  {
   "cell_type": "code",
   "execution_count": 1,
   "id": "b67ed8ef",
   "metadata": {},
   "outputs": [
    {
     "name": "stdout",
     "output_type": "stream",
     "text": [
      "Twinkle, twinkle, little star, \n",
      "\tHow I wonder what you are! \n",
      "\t\tUp above the world so high, \n",
      "\t\tLike a diamond in the sky. \n",
      "Twinkle, twinkle, little star, \n",
      "\tHow I wonder what you are!\n"
     ]
    }
   ],
   "source": [
    "#Question Number 1:\n",
    "\n",
    "print(\"Twinkle, twinkle, little star, \\n\\tHow I wonder what you are! \\n\\t\\tUp above the world so high, \\n\\t\\tLike a diamond in the sky. \\nTwinkle, twinkle, little star, \\n\\tHow I wonder what you are!\")\n"
   ]
  },
  {
   "cell_type": "code",
   "execution_count": 2,
   "id": "d97ca988",
   "metadata": {},
   "outputs": [
    {
     "name": "stdout",
     "output_type": "stream",
     "text": [
      "3.8.8 (default, Apr 13 2021, 15:08:03) [MSC v.1916 64 bit (AMD64)]\n"
     ]
    }
   ],
   "source": [
    "#Question Number 2:\n",
    "import sys\n",
    "print(sys.version)"
   ]
  },
  {
   "cell_type": "code",
   "execution_count": 4,
   "id": "6f174f7a",
   "metadata": {},
   "outputs": [
    {
     "name": "stdout",
     "output_type": "stream",
     "text": [
      "2021-12-31 22:25:48.619689\n"
     ]
    }
   ],
   "source": [
    "#Question Number 3:\n",
    "\n",
    "import datetime\n",
    "now=datetime.datetime.now()\n",
    "print(now)"
   ]
  },
  {
   "cell_type": "code",
   "execution_count": 5,
   "id": "f194f8fd",
   "metadata": {},
   "outputs": [
    {
     "name": "stdout",
     "output_type": "stream",
     "text": [
      "Input the radius of Circle5.4\n",
      "The Area of the Circle With Radius5.4is91.60884177867838\n"
     ]
    }
   ],
   "source": [
    "#Question Number 4:\n",
    "from math import pi\n",
    "r=float(input(\"Input the radius of Circle\"))\n",
    "print(\"The Area of the Circle With Radius\"+str(r)+\"is\"+str(pi*r**2))"
   ]
  },
  {
   "cell_type": "code",
   "execution_count": 7,
   "id": "d01910ba",
   "metadata": {},
   "outputs": [
    {
     "name": "stdout",
     "output_type": "stream",
     "text": [
      "Enter Your First NameOsama \n",
      "Enter Your Last NameMuzaffar\n",
      "Muzaffar\tOsama \n"
     ]
    }
   ],
   "source": [
    "#Question Number 5:\n",
    "fname=input(\"Enter Your First Name\")\n",
    "lname=input(\"Enter Your Last Name\")\n",
    "print(lname+\"\\t\"+fname)"
   ]
  },
  {
   "cell_type": "code",
   "execution_count": 8,
   "id": "fd7bcd20",
   "metadata": {},
   "outputs": [
    {
     "name": "stdout",
     "output_type": "stream",
     "text": [
      "Enter First Number5\n",
      "Enter Second Number6\n",
      "11\n"
     ]
    }
   ],
   "source": [
    "#Question Number 6:\n",
    "a=int(input(\"Enter First Number\"))\n",
    "b=int(input(\"Enter Second Number\"))\n",
    "print(a+b)"
   ]
  },
  {
   "cell_type": "code",
   "execution_count": null,
   "id": "5d711aea",
   "metadata": {},
   "outputs": [],
   "source": []
  }
 ],
 "metadata": {
  "kernelspec": {
   "display_name": "Python 3",
   "language": "python",
   "name": "python3"
  },
  "language_info": {
   "codemirror_mode": {
    "name": "ipython",
    "version": 3
   },
   "file_extension": ".py",
   "mimetype": "text/x-python",
   "name": "python",
   "nbconvert_exporter": "python",
   "pygments_lexer": "ipython3",
   "version": "3.8.8"
  }
 },
 "nbformat": 4,
 "nbformat_minor": 5
}
